{
 "cells": [
  {
   "cell_type": "code",
   "execution_count": 30,
   "metadata": {},
   "outputs": [
    {
     "name": "stdout",
     "output_type": "stream",
     "text": [
      "9232\n"
     ]
    }
   ],
   "source": [
    "import json\n",
    "\n",
    "file_path = \"listings/metadata/listings_e.json\"\n",
    "\n",
    "with open(file_path, \"r\", encoding=\"utf-8\") as f:\n",
    "    data = [json.loads(line) for line in f]  # Read each line as a separate JSON object\n",
    "\n",
    "print(len(data))  # Number of JSON objects in the file"
   ]
  },
  {
   "cell_type": "code",
   "execution_count": 31,
   "metadata": {},
   "outputs": [],
   "source": [
    "def format_for_rag(data):\n",
    "    \"\"\"Format JSON into a structured, RAG-friendly text string.\"\"\"\n",
    "    \n",
    "    # Extract key fields\n",
    "    item_name = data.get(\"item_name\", [{}])[0].get(\"value\", \"Unknown Item\")\n",
    "    brand = data.get(\"brand\", [{}])[0].get(\"value\", \"Unknown Brand\")\n",
    "    color = data.get(\"color\", [{}])[0].get(\"value\", \"Unknown Color\")\n",
    "    style = data.get(\"style\", [{}])[0].get(\"value\", \"Unknown Style\")\n",
    "    product_type = data.get(\"product_type\", [{}])[0].get(\"value\", \"Unknown Type\")\n",
    "    model_number = data.get(\"model_number\", [{}])[0].get(\"value\", \"Unknown Model\")\n",
    "    model_year = data.get(\"model_year\", [{}])[0].get(\"value\", \"Unknown Year\")\n",
    "    marketplace = data.get(\"marketplace\", \"Unknown Marketplace\")\n",
    "    \n",
    "    # Extract bullet points and keywords\n",
    "    bullet_points = [bp[\"value\"] for bp in data.get(\"bullet_point\", [])]\n",
    "    keywords = [kw[\"value\"] for kw in data.get(\"item_keywords\", [])]\n",
    "\n",
    "    # Extract category info\n",
    "    category_path = \" > \".join([node[\"node_name\"] for node in data.get(\"node\", [])])\n",
    "\n",
    "    # Construct the formatted string\n",
    "    formatted_string = (\n",
    "        f\"**Item Name:** {item_name}. \"\n",
    "        f\"**Brand:** {brand}. \"\n",
    "        f\"**Color:** {color}. \"\n",
    "        f\"**Style:** {style}. \"\n",
    "        f\"**Key Features:** {', '.join(bullet_points)}. \"\n",
    "        f\"**Keywords:** {', '.join(keywords)}. \"\n",
    "        f\"**Product Type:** {product_type}. \"\n",
    "        f\"**Model Number:** {model_number}. \"\n",
    "        f\"**Model Year:** {model_year}. \"\n",
    "        f\"**Marketplace:** {marketplace}. \"\n",
    "        f\"**Category Path:** {category_path}.\"\n",
    "    )\n",
    "\n",
    "    return formatted_string\n"
   ]
  },
  {
   "cell_type": "code",
   "execution_count": 32,
   "metadata": {},
   "outputs": [
    {
     "name": "stdout",
     "output_type": "stream",
     "text": [
      "idx 1, new key is item_dimensions\n",
      "idx 1, new key is fabric_type\n",
      "idx 1, new key is material\n",
      "idx 1, new key is pattern\n",
      "idx 1, new key is style\n",
      "idx 2, new key is item_shape\n",
      "idx 2, new key is product_description\n",
      "idx 4, new key is color_code\n",
      "idx 56, new key is model_year\n",
      "idx 65, new key is spin_id\n",
      "idx 65, new key is 3dmodel_id\n",
      "idx 204, new key is finish_type\n"
     ]
    }
   ],
   "source": [
    "all_keys = set()\n",
    "for idx, item in enumerate(data):\n",
    "    for key in item.keys():\n",
    "        if key not in all_keys and idx != 0:\n",
    "            print(f\"idx {idx}, new key is {key}\")\n",
    "    all_keys.update(item.keys())"
   ]
  },
  {
   "cell_type": "code",
   "execution_count": null,
   "metadata": {},
   "outputs": [],
   "source": []
  },
  {
   "cell_type": "code",
   "execution_count": 36,
   "metadata": {},
   "outputs": [],
   "source": [
    "import os\n",
    "import json\n",
    "\n",
    "# Directory containing JSON/JSONL files\n",
    "json_folder = \"listings/metadata\"\n",
    "\n",
    "def format_for_rag(data):\n",
    "    \"\"\"General function to format JSON into a structured string for RAG, handling different keys dynamically.\"\"\"\n",
    "    parts = []\n",
    "\n",
    "    def extract_values(value):\n",
    "        \"\"\"Extract values recursively from dicts and lists.\"\"\"\n",
    "        if isinstance(value, dict):\n",
    "            return \", \".join(f\"{k}: {extract_values(v)}\" for k, v in value.items())\n",
    "        elif isinstance(value, list):\n",
    "            return \", \".join(str(extract_values(v)) for v in value)\n",
    "        return str(value)\n",
    "\n",
    "    for key, value in data.items():\n",
    "        formatted_value = extract_values(value)\n",
    "        parts.append(f\"{key.capitalize()}: {formatted_value}\")\n",
    "\n",
    "    return \"\\n\".join(parts)\n"
   ]
  },
  {
   "cell_type": "code",
   "execution_count": 50,
   "metadata": {},
   "outputs": [],
   "source": [
    "formatted_data_sample = format_for_rag(data[1342]) # 13, 1342\n",
    "# Some strings contain too many characters.\n",
    "# For example, data[1342] of listings_e.json \n",
    "# contains over 7000 characters in Item_keywords, which are important.\n",
    "# There may be smarter ways to generate the formatted string,\n",
    "# such as truncating the string or using a more concise representation.\n",
    "# Also, so descriptions are not in English, one idea my be to translate them to English."
   ]
  },
  {
   "cell_type": "code",
   "execution_count": 51,
   "metadata": {},
   "outputs": [
    {
     "data": {
      "text/plain": [
       "{'brand': [{'language_tag': 'en_IN', 'value': 'Amazon Brand - Solimo'}],\n",
       " 'bullet_point': [{'language_tag': 'en_IN',\n",
       "   'value': '3D Printed Hard Back Case Mobile Cover for Oppo F3'},\n",
       "  {'language_tag': 'en_IN',\n",
       "   'value': 'Easy to put & take off with perfect cutouts for volume buttons, audio & charging ports.'},\n",
       "  {'language_tag': 'en_IN',\n",
       "   'value': 'Stylish design and appearance, express your unique personality.'},\n",
       "  {'language_tag': 'en_IN',\n",
       "   'value': 'Extreme precision design allows easy access to all buttons and ports while featuring raised bezel to life screen and camera off flat surface.'},\n",
       "  {'language_tag': 'en_IN', 'value': 'Slim Hard Back Cover'},\n",
       "  {'language_tag': 'en_IN', 'value': 'No Warranty'}],\n",
       " 'color': [{'language_tag': 'en_IN',\n",
       "   'standardized_values': ['multi-colored'],\n",
       "   'value': 'Others'}],\n",
       " 'item_id': 'B07TH3DNQ4',\n",
       " 'item_name': [{'language_tag': 'en_IN',\n",
       "   'value': 'Amazon Brand - Solimo Designer Sea Seen 3D Printed Hard Back Case Mobile Cover for Oppo F3'}],\n",
       " 'item_weight': [{'normalized_value': {'unit': 'pounds', 'value': 0.110231131},\n",
       "   'unit': 'grams',\n",
       "   'value': 50}],\n",
       " 'model_name': [{'language_tag': 'en_IN', 'value': 'Oppo F3'}],\n",
       " 'model_number': [{'value': 'gz8392-SL40653'}],\n",
       " 'product_type': [{'value': 'CELLULAR_PHONE_CASE'}],\n",
       " 'main_image_id': '81AmdYhNCLL',\n",
       " 'other_image_id': ['61oI69Yt4GL',\n",
       "  '61Xce1Hq7DL',\n",
       "  '61ATVyzpLKL',\n",
       "  '813lEWZ2zCL'],\n",
       " 'item_keywords': [{'language_tag': 'en_IN', 'value': 'mobile cover'},\n",
       "  {'language_tag': 'en_IN', 'value': 'back cover'},\n",
       "  {'language_tag': 'en_IN', 'value': 'mobile case'},\n",
       "  {'language_tag': 'en_IN', 'value': 'phone case'},\n",
       "  {'language_tag': 'en_IN', 'value': 'mobile panel'},\n",
       "  {'language_tag': 'en_IN', 'value': 'phone panel'},\n",
       "  {'language_tag': 'en_IN', 'value': 'samsung mobile case'},\n",
       "  {'language_tag': 'en_IN', 'value': 'samsung phone cover'},\n",
       "  {'language_tag': 'en_IN', 'value': 'samsung back case'},\n",
       "  {'language_tag': 'en_IN', 'value': 'mobile cover'},\n",
       "  {'language_tag': 'en_IN', 'value': 'back cover'},\n",
       "  {'language_tag': 'en_IN', 'value': 'mobile case'},\n",
       "  {'language_tag': 'en_IN', 'value': 'phone case'},\n",
       "  {'language_tag': 'en_IN', 'value': 'mobile panel'},\n",
       "  {'language_tag': 'en_IN', 'value': 'phone panel'},\n",
       "  {'language_tag': 'en_IN', 'value': 'Oppo mobile case'},\n",
       "  {'language_tag': 'en_IN', 'value': 'Oppo phone cover'},\n",
       "  {'language_tag': 'en_IN', 'value': 'Oppo back case'},\n",
       "  {'language_tag': 'en_IN', 'value': 'hard case'},\n",
       "  {'language_tag': 'en_IN', 'value': '3D printed mobile cover'},\n",
       "  {'language_tag': 'en_IN', 'value': 'mobile cover'},\n",
       "  {'language_tag': 'en_IN', 'value': 'back cover'},\n",
       "  {'language_tag': 'en_IN', 'value': 'mobile case'},\n",
       "  {'language_tag': 'en_IN', 'value': 'phone case'},\n",
       "  {'language_tag': 'en_IN', 'value': 'mobile panel'},\n",
       "  {'language_tag': 'en_IN', 'value': 'phone panel'},\n",
       "  {'language_tag': 'en_IN', 'value': 'Oppo mobile case'},\n",
       "  {'language_tag': 'en_IN', 'value': 'Oppo phone cover'},\n",
       "  {'language_tag': 'en_IN', 'value': 'Oppo back case'},\n",
       "  {'language_tag': 'en_IN', 'value': 'hard case'},\n",
       "  {'language_tag': 'en_IN', 'value': '3D printed mobile cover'},\n",
       "  {'language_tag': 'en_IN', 'value': 'mobile cover'},\n",
       "  {'language_tag': 'en_IN', 'value': 'back cover'},\n",
       "  {'language_tag': 'en_IN', 'value': 'mobile case'},\n",
       "  {'language_tag': 'en_IN', 'value': 'phone case'},\n",
       "  {'language_tag': 'en_IN', 'value': 'mobile panel'},\n",
       "  {'language_tag': 'en_IN', 'value': 'phone panel'},\n",
       "  {'language_tag': 'en_IN', 'value': 'Oppo mobile case'},\n",
       "  {'language_tag': 'en_IN', 'value': 'Oppo phone cover'},\n",
       "  {'language_tag': 'en_IN', 'value': 'Oppo back case'},\n",
       "  {'language_tag': 'en_IN', 'value': 'hard case'},\n",
       "  {'language_tag': 'en_IN', 'value': '3D printed mobile cover'},\n",
       "  {'language_tag': 'en_IN', 'value': 'mobile cover'},\n",
       "  {'language_tag': 'en_IN', 'value': 'back cover'},\n",
       "  {'language_tag': 'en_IN', 'value': 'mobile case'},\n",
       "  {'language_tag': 'en_IN', 'value': 'phone case'},\n",
       "  {'language_tag': 'en_IN', 'value': 'mobile panel'},\n",
       "  {'language_tag': 'en_IN', 'value': 'phone panel'},\n",
       "  {'language_tag': 'en_IN', 'value': 'Oppo mobile case'},\n",
       "  {'language_tag': 'en_IN', 'value': 'Oppo phone cover'},\n",
       "  {'language_tag': 'en_IN', 'value': 'Oppo back case'},\n",
       "  {'language_tag': 'en_IN', 'value': 'hard case'},\n",
       "  {'language_tag': 'en_IN', 'value': '3D printed mobile cover'},\n",
       "  {'language_tag': 'en_IN', 'value': 'mobile cover'},\n",
       "  {'language_tag': 'en_IN', 'value': 'back cover'},\n",
       "  {'language_tag': 'en_IN', 'value': 'mobile case'},\n",
       "  {'language_tag': 'en_IN', 'value': 'phone case'},\n",
       "  {'language_tag': 'en_IN', 'value': 'mobile panel'},\n",
       "  {'language_tag': 'en_IN', 'value': 'phone panel'},\n",
       "  {'language_tag': 'en_IN', 'value': 'Oppo mobile case'},\n",
       "  {'language_tag': 'en_IN', 'value': 'Oppo phone cover'},\n",
       "  {'language_tag': 'en_IN', 'value': 'Oppo back case'},\n",
       "  {'language_tag': 'en_IN', 'value': 'hard case'},\n",
       "  {'language_tag': 'en_IN', 'value': '3D printed mobile cover'},\n",
       "  {'language_tag': 'en_IN', 'value': 'mobile cover'},\n",
       "  {'language_tag': 'en_IN', 'value': 'back cover'},\n",
       "  {'language_tag': 'en_IN', 'value': 'mobile case'},\n",
       "  {'language_tag': 'en_IN', 'value': 'phone case'},\n",
       "  {'language_tag': 'en_IN', 'value': 'mobile panel'},\n",
       "  {'language_tag': 'en_IN', 'value': 'phone panel'},\n",
       "  {'language_tag': 'en_IN', 'value': 'Oppo mobile case'},\n",
       "  {'language_tag': 'en_IN', 'value': 'Oppo phone cover'},\n",
       "  {'language_tag': 'en_IN', 'value': 'Oppo back case'},\n",
       "  {'language_tag': 'en_IN', 'value': 'hard case'},\n",
       "  {'language_tag': 'en_IN', 'value': '3D printed mobile cover'},\n",
       "  {'language_tag': 'en_IN', 'value': 'mobile cover'},\n",
       "  {'language_tag': 'en_IN', 'value': 'back cover'},\n",
       "  {'language_tag': 'en_IN', 'value': 'mobile case'},\n",
       "  {'language_tag': 'en_IN', 'value': 'phone case'},\n",
       "  {'language_tag': 'en_IN', 'value': 'mobile panel'},\n",
       "  {'language_tag': 'en_IN', 'value': 'phone panel'},\n",
       "  {'language_tag': 'en_IN', 'value': 'Oppo mobile case'},\n",
       "  {'language_tag': 'en_IN', 'value': 'Oppo phone cover'},\n",
       "  {'language_tag': 'en_IN', 'value': 'Oppo back case'},\n",
       "  {'language_tag': 'en_IN', 'value': 'hard case'},\n",
       "  {'language_tag': 'en_IN', 'value': '3D printed mobile cover'},\n",
       "  {'language_tag': 'en_IN', 'value': 'mobile cover'},\n",
       "  {'language_tag': 'en_IN', 'value': 'back cover'},\n",
       "  {'language_tag': 'en_IN', 'value': 'mobile case'},\n",
       "  {'language_tag': 'en_IN', 'value': 'phone case'},\n",
       "  {'language_tag': 'en_IN', 'value': 'mobile panel'},\n",
       "  {'language_tag': 'en_IN', 'value': 'phone panel'},\n",
       "  {'language_tag': 'en_IN', 'value': 'Oppo mobile case'},\n",
       "  {'language_tag': 'en_IN', 'value': 'Oppo phone cover'},\n",
       "  {'language_tag': 'en_IN', 'value': 'Oppo back case'},\n",
       "  {'language_tag': 'en_IN', 'value': 'hard case'},\n",
       "  {'language_tag': 'en_IN', 'value': '3D printed mobile cover'},\n",
       "  {'language_tag': 'en_IN', 'value': 'mobile cover'},\n",
       "  {'language_tag': 'en_IN', 'value': 'back cover'},\n",
       "  {'language_tag': 'en_IN', 'value': 'mobile case'},\n",
       "  {'language_tag': 'en_IN', 'value': 'phone case'},\n",
       "  {'language_tag': 'en_IN', 'value': 'mobile panel'},\n",
       "  {'language_tag': 'en_IN', 'value': 'phone panel'},\n",
       "  {'language_tag': 'en_IN', 'value': 'Oppo mobile case'},\n",
       "  {'language_tag': 'en_IN', 'value': 'Oppo phone cover'},\n",
       "  {'language_tag': 'en_IN', 'value': 'Oppo back case'},\n",
       "  {'language_tag': 'en_IN', 'value': 'hard case'},\n",
       "  {'language_tag': 'en_IN', 'value': '3D printed mobile cover'},\n",
       "  {'language_tag': 'en_IN', 'value': 'mobile cover'},\n",
       "  {'language_tag': 'en_IN', 'value': 'back cover'},\n",
       "  {'language_tag': 'en_IN', 'value': 'mobile case'},\n",
       "  {'language_tag': 'en_IN', 'value': 'phone case'},\n",
       "  {'language_tag': 'en_IN', 'value': 'mobile panel'},\n",
       "  {'language_tag': 'en_IN', 'value': 'phone panel'},\n",
       "  {'language_tag': 'en_IN', 'value': 'Oppo mobile case'},\n",
       "  {'language_tag': 'en_IN', 'value': 'Oppo phone cover'},\n",
       "  {'language_tag': 'en_IN', 'value': 'Oppo back case'},\n",
       "  {'language_tag': 'en_IN', 'value': 'hard case'},\n",
       "  {'language_tag': 'en_IN', 'value': '3D printed mobile cover'},\n",
       "  {'language_tag': 'en_IN', 'value': 'mobile cover'},\n",
       "  {'language_tag': 'en_IN', 'value': 'back cover'},\n",
       "  {'language_tag': 'en_IN', 'value': 'mobile case'},\n",
       "  {'language_tag': 'en_IN', 'value': 'phone case'},\n",
       "  {'language_tag': 'en_IN', 'value': 'mobile panel'},\n",
       "  {'language_tag': 'en_IN', 'value': 'phone panel'},\n",
       "  {'language_tag': 'en_IN', 'value': 'Oppo mobile case'},\n",
       "  {'language_tag': 'en_IN', 'value': 'Oppo phone cover'},\n",
       "  {'language_tag': 'en_IN', 'value': 'Oppo back case'},\n",
       "  {'language_tag': 'en_IN', 'value': 'hard case'},\n",
       "  {'language_tag': 'en_IN', 'value': '3D printed mobile cover'},\n",
       "  {'language_tag': 'en_IN', 'value': 'mobile cover'},\n",
       "  {'language_tag': 'en_IN', 'value': 'back cover'},\n",
       "  {'language_tag': 'en_IN', 'value': 'mobile case'},\n",
       "  {'language_tag': 'en_IN', 'value': 'phone case'},\n",
       "  {'language_tag': 'en_IN', 'value': 'mobile panel'},\n",
       "  {'language_tag': 'en_IN', 'value': 'phone panel'},\n",
       "  {'language_tag': 'en_IN', 'value': 'Oppo mobile case'},\n",
       "  {'language_tag': 'en_IN', 'value': 'Oppo phone cover'},\n",
       "  {'language_tag': 'en_IN', 'value': 'Oppo back case'},\n",
       "  {'language_tag': 'en_IN', 'value': 'hard case'},\n",
       "  {'language_tag': 'en_IN', 'value': '3D printed mobile cover'},\n",
       "  {'language_tag': 'en_IN', 'value': 'mobile cover'},\n",
       "  {'language_tag': 'en_IN', 'value': 'back cover'},\n",
       "  {'language_tag': 'en_IN', 'value': 'mobile case'},\n",
       "  {'language_tag': 'en_IN', 'value': 'phone case'},\n",
       "  {'language_tag': 'en_IN', 'value': 'mobile panel'},\n",
       "  {'language_tag': 'en_IN', 'value': 'phone panel'},\n",
       "  {'language_tag': 'en_IN', 'value': 'Oppo mobile case'},\n",
       "  {'language_tag': 'en_IN', 'value': 'Oppo phone cover'},\n",
       "  {'language_tag': 'en_IN', 'value': 'Oppo back case'},\n",
       "  {'language_tag': 'en_IN', 'value': 'hard case'},\n",
       "  {'language_tag': 'en_IN', 'value': '3D printed mobile cover'},\n",
       "  {'language_tag': 'en_IN', 'value': 'mobile cover'},\n",
       "  {'language_tag': 'en_IN', 'value': 'back cover'},\n",
       "  {'language_tag': 'en_IN', 'value': 'mobile case'},\n",
       "  {'language_tag': 'en_IN', 'value': 'phone case'},\n",
       "  {'language_tag': 'en_IN', 'value': 'mobile panel'},\n",
       "  {'language_tag': 'en_IN', 'value': 'phone panel'},\n",
       "  {'language_tag': 'en_IN', 'value': 'Oppo mobile case'},\n",
       "  {'language_tag': 'en_IN', 'value': 'Oppo phone cover'},\n",
       "  {'language_tag': 'en_IN', 'value': 'Oppo back case'},\n",
       "  {'language_tag': 'en_IN', 'value': 'hard case'},\n",
       "  {'language_tag': 'en_IN', 'value': '3D printed mobile cover'}],\n",
       " 'country': 'IN',\n",
       " 'marketplace': 'Amazon',\n",
       " 'domain_name': 'amazon.in',\n",
       " 'node': [{'node_id': 12710103031,\n",
       "   'node_name': '/Categories/Mobiles & Accessories/Mobile Accessories/Cases & Covers/Back & Bumper Cases'}]}"
      ]
     },
     "execution_count": 51,
     "metadata": {},
     "output_type": "execute_result"
    }
   ],
   "source": [
    "data[1342]"
   ]
  },
  {
   "cell_type": "code",
   "execution_count": 49,
   "metadata": {},
   "outputs": [
    {
     "data": {
      "text/plain": [
       "8379"
      ]
     },
     "execution_count": 49,
     "metadata": {},
     "output_type": "execute_result"
    }
   ],
   "source": [
    "len(formatted_data_sample)"
   ]
  },
  {
   "cell_type": "code",
   "execution_count": 53,
   "metadata": {},
   "outputs": [
    {
     "name": "stdout",
     "output_type": "stream",
     "text": [
      "Brand: language_tag: en_IN, value: Amazon Brand - Solimo\n",
      "Bullet_point: language_tag: en_IN, value: 3D Printed Hard Back Case Mobile Cover for Oppo F3, language_tag: en_IN, value: Easy to put & take off with perfect cutouts for volume buttons, audio & charging ports., language_tag: en_IN, value: Stylish design and appearance, express your unique personality., language_tag: en_IN, value: Extreme precision design allows easy access to all buttons and ports while featuring raised bezel to life screen and camera off flat surface., language_tag: en_IN, value: Slim Hard Back Cover, language_tag: en_IN, value: No Warranty\n",
      "Color: language_tag: en_IN, standardized_values: multi-colored, value: Others\n",
      "Item_id: B07TH3DNQ4\n",
      "Item_name: language_tag: en_IN, value: Amazon Brand - Solimo Designer Sea Seen 3D Printed Hard Back Case Mobile Cover for Oppo F3\n",
      "Item_weight: normalized_value: unit: pounds, value: 0.110231131, unit: grams, value: 50\n",
      "Model_name: language_tag: en_IN, value: Oppo F3\n",
      "Model_number: value: gz8392-SL40653\n",
      "Product_type: value: CELLULAR_PHONE_CASE\n",
      "Main_image_id: 81AmdYhNCLL\n",
      "Other_image_id: 61oI69Yt4GL, 61Xce1Hq7DL, 61ATVyzpLKL, 813lEWZ2zCL\n",
      "Item_keywords: language_tag: en_IN, value: mobile cover, language_tag: en_IN, value: back cover, language_tag: en_IN, value: mobile case, language_tag: en_IN, value: phone case, language_tag: en_IN, value: mobile panel, language_tag: en_IN, value: phone panel, language_tag: en_IN, value: samsung mobile case, language_tag: en_IN, value: samsung phone cover, language_tag: en_IN, value: samsung back case, language_tag: en_IN, value: mobile cover, language_tag: en_IN, value: back cover, language_tag: en_IN, value: mobile case, language_tag: en_IN, value: phone case, language_tag: en_IN, value: mobile panel, language_tag: en_IN, value: phone panel, language_tag: en_IN, value: Oppo mobile case, language_tag: en_IN, value: Oppo phone cover, language_tag: en_IN, value: Oppo back case, language_tag: en_IN, value: hard case, language_tag: en_IN, value: 3D printed mobile cover, language_tag: en_IN, value: mobile cover, language_tag: en_IN, value: back cover, language_tag: en_IN, value: mobile case, language_tag: en_IN, value: phone case, language_tag: en_IN, value: mobile panel, language_tag: en_IN, value: phone panel, language_tag: en_IN, value: Oppo mobile case, language_tag: en_IN, value: Oppo phone cover, language_tag: en_IN, value: Oppo back case, language_tag: en_IN, value: hard case, language_tag: en_IN, value: 3D printed mobile cover, language_tag: en_IN, value: mobile cover, language_tag: en_IN, value: back cover, language_tag: en_IN, value: mobile case, language_tag: en_IN, value: phone case, language_tag: en_IN, value: mobile panel, language_tag: en_IN, value: phone panel, language_tag: en_IN, value: Oppo mobile case, language_tag: en_IN, value: Oppo phone cover, language_tag: en_IN, value: Oppo back case, language_tag: en_IN, value: hard case, language_tag: en_IN, value: 3D printed mobile cover, language_tag: en_IN, value: mobile cover, language_tag: en_IN, value: back cover, language_tag: en_IN, value: mobile case, language_tag: en_IN, value: phone case, language_tag: en_IN, value: mobile panel, language_tag: en_IN, value: phone panel, language_tag: en_IN, value: Oppo mobile case, language_tag: en_IN, value: Oppo phone cover, language_tag: en_IN, value: Oppo back case, language_tag: en_IN, value: hard case, language_tag: en_IN, value: 3D printed mobile cover, language_tag: en_IN, value: mobile cover, language_tag: en_IN, value: back cover, language_tag: en_IN, value: mobile case, language_tag: en_IN, value: phone case, language_tag: en_IN, value: mobile panel, language_tag: en_IN, value: phone panel, language_tag: en_IN, value: Oppo mobile case, language_tag: en_IN, value: Oppo phone cover, language_tag: en_IN, value: Oppo back case, language_tag: en_IN, value: hard case, language_tag: en_IN, value: 3D printed mobile cover, language_tag: en_IN, value: mobile cover, language_tag: en_IN, value: back cover, language_tag: en_IN, value: mobile case, language_tag: en_IN, value: phone case, language_tag: en_IN, value: mobile panel, language_tag: en_IN, value: phone panel, language_tag: en_IN, value: Oppo mobile case, language_tag: en_IN, value: Oppo phone cover, language_tag: en_IN, value: Oppo back case, language_tag: en_IN, value: hard case, language_tag: en_IN, value: 3D printed mobile cover, language_tag: en_IN, value: mobile cover, language_tag: en_IN, value: back cover, language_tag: en_IN, value: mobile case, language_tag: en_IN, value: phone case, language_tag: en_IN, value: mobile panel, language_tag: en_IN, value: phone panel, language_tag: en_IN, value: Oppo mobile case, language_tag: en_IN, value: Oppo phone cover, language_tag: en_IN, value: Oppo back case, language_tag: en_IN, value: hard case, language_tag: en_IN, value: 3D printed mobile cover, language_tag: en_IN, value: mobile cover, language_tag: en_IN, value: back cover, language_tag: en_IN, value: mobile case, language_tag: en_IN, value: phone case, language_tag: en_IN, value: mobile panel, language_tag: en_IN, value: phone panel, language_tag: en_IN, value: Oppo mobile case, language_tag: en_IN, value: Oppo phone cover, language_tag: en_IN, value: Oppo back case, language_tag: en_IN, value: hard case, language_tag: en_IN, value: 3D printed mobile cover, language_tag: en_IN, value: mobile cover, language_tag: en_IN, value: back cover, language_tag: en_IN, value: mobile case, language_tag: en_IN, value: phone case, language_tag: en_IN, value: mobile panel, language_tag: en_IN, value: phone panel, language_tag: en_IN, value: Oppo mobile case, language_tag: en_IN, value: Oppo phone cover, language_tag: en_IN, value: Oppo back case, language_tag: en_IN, value: hard case, language_tag: en_IN, value: 3D printed mobile cover, language_tag: en_IN, value: mobile cover, language_tag: en_IN, value: back cover, language_tag: en_IN, value: mobile case, language_tag: en_IN, value: phone case, language_tag: en_IN, value: mobile panel, language_tag: en_IN, value: phone panel, language_tag: en_IN, value: Oppo mobile case, language_tag: en_IN, value: Oppo phone cover, language_tag: en_IN, value: Oppo back case, language_tag: en_IN, value: hard case, language_tag: en_IN, value: 3D printed mobile cover, language_tag: en_IN, value: mobile cover, language_tag: en_IN, value: back cover, language_tag: en_IN, value: mobile case, language_tag: en_IN, value: phone case, language_tag: en_IN, value: mobile panel, language_tag: en_IN, value: phone panel, language_tag: en_IN, value: Oppo mobile case, language_tag: en_IN, value: Oppo phone cover, language_tag: en_IN, value: Oppo back case, language_tag: en_IN, value: hard case, language_tag: en_IN, value: 3D printed mobile cover, language_tag: en_IN, value: mobile cover, language_tag: en_IN, value: back cover, language_tag: en_IN, value: mobile case, language_tag: en_IN, value: phone case, language_tag: en_IN, value: mobile panel, language_tag: en_IN, value: phone panel, language_tag: en_IN, value: Oppo mobile case, language_tag: en_IN, value: Oppo phone cover, language_tag: en_IN, value: Oppo back case, language_tag: en_IN, value: hard case, language_tag: en_IN, value: 3D printed mobile cover, language_tag: en_IN, value: mobile cover, language_tag: en_IN, value: back cover, language_tag: en_IN, value: mobile case, language_tag: en_IN, value: phone case, language_tag: en_IN, value: mobile panel, language_tag: en_IN, value: phone panel, language_tag: en_IN, value: Oppo mobile case, language_tag: en_IN, value: Oppo phone cover, language_tag: en_IN, value: Oppo back case, language_tag: en_IN, value: hard case, language_tag: en_IN, value: 3D printed mobile cover, language_tag: en_IN, value: mobile cover, language_tag: en_IN, value: back cover, language_tag: en_IN, value: mobile case, language_tag: en_IN, value: phone case, language_tag: en_IN, value: mobile panel, language_tag: en_IN, value: phone panel, language_tag: en_IN, value: Oppo mobile case, language_tag: en_IN, value: Oppo phone cover, language_tag: en_IN, value: Oppo back case, language_tag: en_IN, value: hard case, language_tag: en_IN, value: 3D printed mobile cover\n",
      "Country: IN\n",
      "Marketplace: Amazon\n",
      "Domain_name: amazon.in\n",
      "Node: node_id: 12710103031, node_name: /Categories/Mobiles & Accessories/Mobile Accessories/Cases & Covers/Back & Bumper Cases\n"
     ]
    }
   ],
   "source": [
    "print(formatted_data_sample)"
   ]
  },
  {
   "cell_type": "code",
   "execution_count": 55,
   "metadata": {},
   "outputs": [],
   "source": [
    "s = \"Item_keywords: language_tag: en_IN, value: mobile cover, language_tag: en_IN, value: back cover, language_tag: en_IN, value: mobile case, language_tag: en_IN, value: phone case, language_tag: en_IN, value: mobile panel, language_tag: en_IN, value: phone panel, language_tag: en_IN, value: samsung mobile case, language_tag: en_IN, value: samsung phone cover, language_tag: en_IN, value: samsung back case, language_tag: en_IN, value: mobile cover, language_tag: en_IN, value: back cover, language_tag: en_IN, value: mobile case, language_tag: en_IN, value: phone case, language_tag: en_IN, value: mobile panel, language_tag: en_IN, value: phone panel, language_tag: en_IN, value: Oppo mobile case, language_tag: en_IN, value: Oppo phone cover, language_tag: en_IN, value: Oppo back case, language_tag: en_IN, value: hard case, language_tag: en_IN, value: 3D printed mobile cover, language_tag: en_IN, value: mobile cover, language_tag: en_IN, value: back cover, language_tag: en_IN, value: mobile case, language_tag: en_IN, value: phone case, language_tag: en_IN, value: mobile panel, language_tag: en_IN, value: phone panel, language_tag: en_IN, value: Oppo mobile case, language_tag: en_IN, value: Oppo phone cover, language_tag: en_IN, value: Oppo back case, language_tag: en_IN, value: hard case, language_tag: en_IN, value: 3D printed mobile cover, language_tag: en_IN, value: mobile cover, language_tag: en_IN, value: back cover, language_tag: en_IN, value: mobile case, language_tag: en_IN, value: phone case, language_tag: en_IN, value: mobile panel, language_tag: en_IN, value: phone panel, language_tag: en_IN, value: Oppo mobile case, language_tag: en_IN, value: Oppo phone cover, language_tag: en_IN, value: Oppo back case, language_tag: en_IN, value: hard case, language_tag: en_IN, value: 3D printed mobile cover, language_tag: en_IN, value: mobile cover, language_tag: en_IN, value: back cover, language_tag: en_IN, value: mobile case, language_tag: en_IN, value: phone case, language_tag: en_IN, value: mobile panel, language_tag: en_IN, value: phone panel, language_tag: en_IN, value: Oppo mobile case, language_tag: en_IN, value: Oppo phone cover, language_tag: en_IN, value: Oppo back case, language_tag: en_IN, value: hard case, language_tag: en_IN, value: 3D printed mobile cover, language_tag: en_IN, value: mobile cover, language_tag: en_IN, value: back cover, language_tag: en_IN, value: mobile case, language_tag: en_IN, value: phone case, language_tag: en_IN, value: mobile panel, language_tag: en_IN, value: phone panel, language_tag: en_IN, value: Oppo mobile case, language_tag: en_IN, value: Oppo phone cover, language_tag: en_IN, value: Oppo back case, language_tag: en_IN, value: hard case, language_tag: en_IN, value: 3D printed mobile cover, language_tag: en_IN, value: mobile cover, language_tag: en_IN, value: back cover, language_tag: en_IN, value: mobile case, language_tag: en_IN, value: phone case, language_tag: en_IN, value: mobile panel, language_tag: en_IN, value: phone panel, language_tag: en_IN, value: Oppo mobile case, language_tag: en_IN, value: Oppo phone cover, language_tag: en_IN, value: Oppo back case, language_tag: en_IN, value: hard case, language_tag: en_IN, value: 3D printed mobile cover, language_tag: en_IN, value: mobile cover, language_tag: en_IN, value: back cover, language_tag: en_IN, value: mobile case, language_tag: en_IN, value: phone case, language_tag: en_IN, value: mobile panel, language_tag: en_IN, value: phone panel, language_tag: en_IN, value: Oppo mobile case, language_tag: en_IN, value: Oppo phone cover, language_tag: en_IN, value: Oppo back case, language_tag: en_IN, value: hard case, language_tag: en_IN, value: 3D printed mobile cover, language_tag: en_IN, value: mobile cover, language_tag: en_IN, value: back cover, language_tag: en_IN, value: mobile case, language_tag: en_IN, value: phone case, language_tag: en_IN, value: mobile panel, language_tag: en_IN, value: phone panel, language_tag: en_IN, value: Oppo mobile case, language_tag: en_IN, value: Oppo phone cover, language_tag: en_IN, value: Oppo back case, language_tag: en_IN, value: hard case, language_tag: en_IN, value: 3D printed mobile cover, language_tag: en_IN, value: mobile cover, language_tag: en_IN, value: back cover, language_tag: en_IN, value: mobile case, language_tag: en_IN, value: phone case, language_tag: en_IN, value: mobile panel, language_tag: en_IN, value: phone panel, language_tag: en_IN, value: Oppo mobile case, language_tag: en_IN, value: Oppo phone cover, language_tag: en_IN, value: Oppo back case, language_tag: en_IN, value: hard case, language_tag: en_IN, value: 3D printed mobile cover, language_tag: en_IN, value: mobile cover, language_tag: en_IN, value: back cover, language_tag: en_IN, value: mobile case, language_tag: en_IN, value: phone case, language_tag: en_IN, value: mobile panel, language_tag: en_IN, value: phone panel, language_tag: en_IN, value: Oppo mobile case, language_tag: en_IN, value: Oppo phone cover, language_tag: en_IN, value: Oppo back case, language_tag: en_IN, value: hard case, language_tag: en_IN, value: 3D printed mobile cover, language_tag: en_IN, value: mobile cover, language_tag: en_IN, value: back cover, language_tag: en_IN, value: mobile case, language_tag: en_IN, value: phone case, language_tag: en_IN, value: mobile panel, language_tag: en_IN, value: phone panel, language_tag: en_IN, value: Oppo mobile case, language_tag: en_IN, value: Oppo phone cover, language_tag: en_IN, value: Oppo back case, language_tag: en_IN, value: hard case, language_tag: en_IN, value: 3D printed mobile cover, language_tag: en_IN, value: mobile cover, language_tag: en_IN, value: back cover, language_tag: en_IN, value: mobile case, language_tag: en_IN, value: phone case, language_tag: en_IN, value: mobile panel, language_tag: en_IN, value: phone panel, language_tag: en_IN, value: Oppo mobile case, language_tag: en_IN, value: Oppo phone cover, language_tag: en_IN, value: Oppo back case, language_tag: en_IN, value: hard case, language_tag: en_IN, value: 3D printed mobile cover, language_tag: en_IN, value: mobile cover, language_tag: en_IN, value: back cover, language_tag: en_IN, value: mobile case, language_tag: en_IN, value: phone case, language_tag: en_IN, value: mobile panel, language_tag: en_IN, value: phone panel, language_tag: en_IN, value: Oppo mobile case, language_tag: en_IN, value: Oppo phone cover, language_tag: en_IN, value: Oppo back case, language_tag: en_IN, value: hard case, language_tag: en_IN, value: 3D printed mobile cover, language_tag: en_IN, value: mobile cover, language_tag: en_IN, value: back cover, language_tag: en_IN, value: mobile case, language_tag: en_IN, value: phone case, language_tag: en_IN, value: mobile panel, language_tag: en_IN, value: phone panel, language_tag: en_IN, value: Oppo mobile case, language_tag: en_IN, value: Oppo phone cover, language_tag: en_IN, value: Oppo back case, language_tag: en_IN, value: hard case, language_tag: en_IN, value: 3D printed mobile cover\""
   ]
  },
  {
   "cell_type": "code",
   "execution_count": 56,
   "metadata": {},
   "outputs": [
    {
     "data": {
      "text/plain": [
       "7040"
      ]
     },
     "execution_count": 56,
     "metadata": {},
     "output_type": "execute_result"
    }
   ],
   "source": [
    "len(s)"
   ]
  },
  {
   "cell_type": "code",
   "execution_count": null,
   "metadata": {},
   "outputs": [],
   "source": [
    "# ChromaDB with chuncking https://chatgpt.com/share/67c66fd2-3b00-800f-9b27-ad2a00ec8ae6"
   ]
  }
 ],
 "metadata": {
  "kernelspec": {
   "display_name": "shoptalk-chatbot-_PQObPGz-py3.11",
   "language": "python",
   "name": "python3"
  },
  "language_info": {
   "codemirror_mode": {
    "name": "ipython",
    "version": 3
   },
   "file_extension": ".py",
   "mimetype": "text/x-python",
   "name": "python",
   "nbconvert_exporter": "python",
   "pygments_lexer": "ipython3",
   "version": "3.11.7"
  }
 },
 "nbformat": 4,
 "nbformat_minor": 2
}
